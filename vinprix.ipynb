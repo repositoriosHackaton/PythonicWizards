{
  "cells": [
    {
      "cell_type": "code",
      "execution_count": 9,
      "metadata": {
        "colab": {
          "base_uri": "https://localhost:8080/"
        },
        "id": "-ph7Sax6DEYK",
        "outputId": "e843fae2-08f6-4417-a995-13d19a1d4de4"
      },
      "outputs": [
        {
          "ename": "FileNotFoundError",
          "evalue": "[Errno 2] No such file or directory: '/wine_price_model.joblib'",
          "output_type": "error",
          "traceback": [
            "\u001b[1;31m---------------------------------------------------------------------------\u001b[0m",
            "\u001b[1;31mFileNotFoundError\u001b[0m                         Traceback (most recent call last)",
            "Cell \u001b[1;32mIn[9], line 5\u001b[0m\n\u001b[0;32m      2\u001b[0m \u001b[38;5;28;01mimport\u001b[39;00m \u001b[38;5;21;01mjoblib\u001b[39;00m\n\u001b[0;32m      4\u001b[0m \u001b[38;5;66;03m# Cargar el modelo entrenado desde el archivo\u001b[39;00m\n\u001b[1;32m----> 5\u001b[0m model \u001b[38;5;241m=\u001b[39m \u001b[43mjoblib\u001b[49m\u001b[38;5;241;43m.\u001b[39;49m\u001b[43mload\u001b[49m\u001b[43m(\u001b[49m\u001b[38;5;124;43m'\u001b[39;49m\u001b[38;5;124;43m/wine_price_model.joblib\u001b[39;49m\u001b[38;5;124;43m'\u001b[39;49m\u001b[43m)\u001b[49m\n\u001b[0;32m      7\u001b[0m \u001b[38;5;66;03m# Crear la función de estimación del precio del vino\u001b[39;00m\n\u001b[0;32m      8\u001b[0m \u001b[38;5;28;01mdef\u001b[39;00m \u001b[38;5;21mestimate_wine_price\u001b[39m(wine_name, wine_year, wine_country, wine_region, winery, wine_rating):\n",
            "File \u001b[1;32mc:\\Users\\Marcos Ogando\\AppData\\Local\\Programs\\Python\\Python312\\Lib\\site-packages\\joblib\\numpy_pickle.py:650\u001b[0m, in \u001b[0;36mload\u001b[1;34m(filename, mmap_mode)\u001b[0m\n\u001b[0;32m    648\u001b[0m         obj \u001b[38;5;241m=\u001b[39m _unpickle(fobj)\n\u001b[0;32m    649\u001b[0m \u001b[38;5;28;01melse\u001b[39;00m:\n\u001b[1;32m--> 650\u001b[0m     \u001b[38;5;28;01mwith\u001b[39;00m \u001b[38;5;28;43mopen\u001b[39;49m\u001b[43m(\u001b[49m\u001b[43mfilename\u001b[49m\u001b[43m,\u001b[49m\u001b[43m \u001b[49m\u001b[38;5;124;43m'\u001b[39;49m\u001b[38;5;124;43mrb\u001b[39;49m\u001b[38;5;124;43m'\u001b[39;49m\u001b[43m)\u001b[49m \u001b[38;5;28;01mas\u001b[39;00m f:\n\u001b[0;32m    651\u001b[0m         \u001b[38;5;28;01mwith\u001b[39;00m _read_fileobject(f, filename, mmap_mode) \u001b[38;5;28;01mas\u001b[39;00m fobj:\n\u001b[0;32m    652\u001b[0m             \u001b[38;5;28;01mif\u001b[39;00m \u001b[38;5;28misinstance\u001b[39m(fobj, \u001b[38;5;28mstr\u001b[39m):\n\u001b[0;32m    653\u001b[0m                 \u001b[38;5;66;03m# if the returned file object is a string, this means we\u001b[39;00m\n\u001b[0;32m    654\u001b[0m                 \u001b[38;5;66;03m# try to load a pickle file generated with an version of\u001b[39;00m\n\u001b[0;32m    655\u001b[0m                 \u001b[38;5;66;03m# Joblib so we load it with joblib compatibility function.\u001b[39;00m\n",
            "\u001b[1;31mFileNotFoundError\u001b[0m: [Errno 2] No such file or directory: '/wine_price_model.joblib'"
          ]
        }
      ],
      "source": [
        "import pandas as pd\n",
        "import joblib\n",
        "\n",
        "# Cargar el modelo entrenado desde el archivo\n",
        "model = joblib.load('/content/wine_price_model.joblib')\n",
        "\n",
        "# Crear la función de estimación del precio del vino\n",
        "def estimate_wine_price(wine_name, wine_year, wine_country, wine_region, winery, wine_rating):\n",
        "    \"\"\"\n",
        "    Estima el precio de un vino basado en su nombre, año, país, región, bodega y calificación.\n",
        "\n",
        "    Parámetros:\n",
        "    wine_name (str): Nombre del vino.\n",
        "    wine_year (int): Año del vino.\n",
        "    wine_country (str): País de origen del vino.\n",
        "    wine_region (str): Región de origen del vino.\n",
        "    winery (str): Nombre de la bodega.\n",
        "    wine_rating (float): Calificación del vino.\n",
        "\n",
        "    Retorna:\n",
        "    float: Precio estimado del vino.\n",
        "    \"\"\"\n",
        "    # Crear un DataFrame con los datos de entrada\n",
        "    input_data = pd.DataFrame({\n",
        "        'wine_name': [wine_name],\n",
        "        'wine_year': [wine_year],\n",
        "        'wine_country': [wine_country],\n",
        "        'wine_region': [wine_region],\n",
        "        'winery': [winery],\n",
        "        'wine_rating': [wine_rating]\n",
        "    })\n",
        "\n",
        "    # Predecir el precio del vino\n",
        "    estimated_price = model.predict(input_data)\n",
        "\n",
        "    return estimated_price[0]\n",
        "\n",
        "# Ejemplo de uso de la función\n",
        "print(estimate_wine_price(\"Carpe Diem Reserve Pinotage\",1970,\"South Africa\",\"Wellington\",\"Diemersfontein\",3))\n"
      ]
    },
    {
      "cell_type": "code",
      "execution_count": null,
      "metadata": {
        "id": "TGmm4XFjN72B"
      },
      "outputs": [],
      "source": []
    }
  ],
  "metadata": {
    "colab": {
      "provenance": []
    },
    "kernelspec": {
      "display_name": "Python 3",
      "name": "python3"
    },
    "language_info": {
      "codemirror_mode": {
        "name": "ipython",
        "version": 3
      },
      "file_extension": ".py",
      "mimetype": "text/x-python",
      "name": "python",
      "nbconvert_exporter": "python",
      "pygments_lexer": "ipython3",
      "version": "3.12.4"
    }
  },
  "nbformat": 4,
  "nbformat_minor": 0
}
