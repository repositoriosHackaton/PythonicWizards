{
  "cells": [
    {
      "cell_type": "code",
      "execution_count": null,
      "metadata": {
        "colab": {
          "base_uri": "https://localhost:8080/"
        },
        "id": "-ph7Sax6DEYK",
        "outputId": "e843fae2-08f6-4417-a995-13d19a1d4de4"
      },
      "outputs": [],
      "source": [
        "import pandas as pd\n",
        "import joblib\n",
        "\n",
        "# Cargar el modelo entrenado desde el archivo\n",
        "model = joblib.load('/content/wine_price_model.joblib')\n",
        "\n",
        "# Crear la función de estimación del precio del vino\n",
        "def estimate_wine_price(wine_name, wine_year, wine_country, wine_region, winery, wine_rating):\n",
        "    \"\"\"\n",
        "    Estima el precio de un vino basado en su nombre, año, país, región, bodega y calificación.\n",
        "\n",
        "    Parámetros:\n",
        "    wine_name (str): Nombre del vino.\n",
        "    wine_year (int): Año del vino.\n",
        "    wine_country (str): País de origen del vino.\n",
        "    wine_region (str): Región de origen del vino.\n",
        "    winery (str): Nombre de la bodega.\n",
        "    wine_rating (float): Calificación del vino.\n",
        "\n",
        "    Retorna:\n",
        "    float: Precio estimado del vino.\n",
        "    \"\"\"\n",
        "    # Crear un DataFrame con los datos de entrada\n",
        "    input_data = pd.DataFrame({\n",
        "        'wine_name': [wine_name],\n",
        "        'wine_year': [wine_year],\n",
        "        'wine_country': [wine_country],\n",
        "        'wine_region': [wine_region],\n",
        "        'winery': [winery],\n",
        "        'wine_rating': [wine_rating]\n",
        "    })\n",
        "\n",
        "    # Predecir el precio del vino\n",
        "    estimated_price = model.predict(input_data)\n",
        "\n",
        "    return estimated_price[0]\n",
        "\n",
        "# Ejemplo de uso de la función\n",
        "print(estimate_wine_price(\"Carpe Diem Reserve Pinotage\",1970,\"South Africa\",\"Wellington\",\"Diemersfontein\",3))\n"
      ]
    }
  ],
  "metadata": {
    "colab": {
      "provenance": []
    },
    "kernelspec": {
      "display_name": "Python 3",
      "name": "python3"
    },
    "language_info": {
      "codemirror_mode": {
        "name": "ipython",
        "version": 3
      },
      "file_extension": ".py",
      "mimetype": "text/x-python",
      "name": "python",
      "nbconvert_exporter": "python",
      "pygments_lexer": "ipython3",
      "version": "3.12.4"
    }
  },
  "nbformat": 4,
  "nbformat_minor": 0
}
